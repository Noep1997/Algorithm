{
 "cells": [
  {
   "cell_type": "markdown",
   "metadata": {},
   "source": [
    "### Practical #1 - Philippe Noël"
   ]
  },
  {
   "cell_type": "code",
   "execution_count": 1,
   "metadata": {},
   "outputs": [],
   "source": [
    "import pandas as pd\n",
    "import numpy as np\n",
    "from IPython.display import display\n",
    "\n",
    "# reading the data\n",
    "train = pd.read_csv('house_train.csv')\n",
    "test = pd.read_csv('house_test.csv')\n",
    "\n",
    "# processing the data\n",
    "y_train = train['price'].values\n",
    "x_train = train.drop(['price','id','Unnamed: 0','date','yr_built','yr_renovated','zipcode'], axis = 1).values\n",
    "x_test = test.drop(['Unnamed: 0','id','date','yr_built','yr_renovated','zipcode'], axis = 1)"
   ]
  },
  {
   "cell_type": "code",
   "execution_count": 2,
   "metadata": {},
   "outputs": [],
   "source": [
    "from sklearn.model_selection import train_test_split\n",
    "\n",
    "# splitting the training data into train & test so we have some values to check against and gage the rate of success\n",
    "x_train2, x_val, y_train2, y_val = train_test_split(x_train, y_train, test_size=0.20)"
   ]
  },
  {
   "cell_type": "code",
   "execution_count": 104,
   "metadata": {},
   "outputs": [
    {
     "data": {
      "text/plain": [
       "0.8633948605745341"
      ]
     },
     "metadata": {},
     "output_type": "display_data"
    }
   ],
   "source": [
    "# model chosen after much experimenting: Gradient Boosting Regression\n",
    "from sklearn import ensemble\n",
    "\n",
    "# fit regression model\n",
    "params = {'n_estimators': 500, 'max_depth': 4, 'min_samples_split': 2, 'learning_rate': 0.01, 'loss': 'ls'}\n",
    "clf = ensemble.GradientBoostingRegressor(**params)\n",
    "clf.fit(x_train2, y_train2)\n",
    "\n",
    "# display score\n",
    "display(clf.score(x_val,y_val)) # as we can see, this is above the 0.84 of the treshold forest"
   ]
  },
  {
   "cell_type": "code",
   "execution_count": 105,
   "metadata": {},
   "outputs": [],
   "source": [
    "# predicting prices of the test dataset and exporting to csv\n",
    "y_out = clf.predict(x_test)\n",
    "y_out = pd.DataFrame(y_out)\n",
    "y_out.to_csv('x_test_predicted_prices.csv')"
   ]
  }
 ],
 "metadata": {
  "kernelspec": {
   "display_name": "Python 3",
   "language": "python",
   "name": "python3"
  },
  "language_info": {
   "codemirror_mode": {
    "name": "ipython",
    "version": 3
   },
   "file_extension": ".py",
   "mimetype": "text/x-python",
   "name": "python",
   "nbconvert_exporter": "python",
   "pygments_lexer": "ipython3",
   "version": "3.6.1"
  }
 },
 "nbformat": 4,
 "nbformat_minor": 2
}
